{
  "nbformat": 4,
  "nbformat_minor": 0,
  "metadata": {
    "colab": {
      "name": "Vine_Review_Analysis.ipynb",
      "provenance": [],
      "collapsed_sections": []
    },
    "kernelspec": {
      "name": "python3",
      "display_name": "Python 3"
    },
    "language_info": {
      "name": "python"
    }
  },
  "cells": [
    {
      "cell_type": "code",
      "execution_count": 39,
      "metadata": {
        "colab": {
          "base_uri": "https://localhost:8080/"
        },
        "id": "ZKEdjj5lapyS",
        "outputId": "3120dbcd-203a-4511-8b0e-356428535798"
      },
      "outputs": [
        {
          "output_type": "stream",
          "name": "stdout",
          "text": [
            "\r0% [Working]\r            \rHit:1 https://developer.download.nvidia.com/compute/cuda/repos/ubuntu1804/x86_64  InRelease\n",
            "\r0% [Waiting for headers] [Connecting to security.ubuntu.com (185.125.190.36)] [\r0% [1 InRelease gpgv 1,581 B] [Waiting for headers] [Connecting to security.ubu\r                                                                               \rHit:2 http://archive.ubuntu.com/ubuntu bionic InRelease\n",
            "\r0% [1 InRelease gpgv 1,581 B] [Waiting for headers] [Waiting for headers] [Conn\r                                                                               \rGet:3 http://archive.ubuntu.com/ubuntu bionic-updates InRelease [88.7 kB]\n",
            "\r0% [1 InRelease gpgv 1,581 B] [3 InRelease 14.2 kB/88.7 kB 16%] [Waiting for he\r                                                                               \rIgn:4 https://developer.download.nvidia.com/compute/machine-learning/repos/ubuntu1804/x86_64  InRelease\n",
            "\r0% [1 InRelease gpgv 1,581 B] [3 InRelease 59.1 kB/88.7 kB 67%] [Waiting for he\r                                                                               \rGet:5 http://security.ubuntu.com/ubuntu bionic-security InRelease [88.7 kB]\n",
            "\r0% [1 InRelease gpgv 1,581 B] [3 InRelease 62.0 kB/88.7 kB 70%] [5 InRelease 14\r                                                                               \rHit:6 http://ppa.launchpad.net/c2d4u.team/c2d4u4.0+/ubuntu bionic InRelease\n",
            "\r0% [1 InRelease gpgv 1,581 B] [3 InRelease 67.8 kB/88.7 kB 76%] [5 InRelease 14\r0% [1 InRelease gpgv 1,581 B] [Waiting for headers] [5 InRelease 14.2 kB/88.7 k\r                                                                               \rHit:7 https://developer.download.nvidia.com/compute/machine-learning/repos/ubuntu1804/x86_64  Release\n",
            "\r0% [1 InRelease gpgv 1,581 B] [Waiting for headers] [5 InRelease 14.2 kB/88.7 k\r                                                                               \rGet:8 https://cloud.r-project.org/bin/linux/ubuntu bionic-cran40/ InRelease [3,626 B]\n",
            "Get:9 http://archive.ubuntu.com/ubuntu bionic-backports InRelease [74.6 kB]\n",
            "Hit:10 http://ppa.launchpad.net/cran/libgit2/ubuntu bionic InRelease\n",
            "Hit:11 http://ppa.launchpad.net/deadsnakes/ppa/ubuntu bionic InRelease\n",
            "Hit:12 http://ppa.launchpad.net/graphics-drivers/ppa/ubuntu bionic InRelease\n",
            "Fetched 256 kB in 3s (88.6 kB/s)\n",
            "Reading package lists... Done\n"
          ]
        }
      ],
      "source": [
        "import os\n",
        "# Find the latest version of spark 3.0 from http://www.apache.org/dist/spark/ and enter as the spark version\n",
        "# For example:\n",
        "# spark_version = 'spark-3.0.3'\n",
        "spark_version = 'spark-3.0.3'\n",
        "os.environ['SPARK_VERSION']=spark_version\n",
        "\n",
        "# Install Spark and Java\n",
        "!apt-get update\n",
        "!apt-get install openjdk-11-jdk-headless -qq > /dev/null\n",
        "!wget -q http://www.apache.org/dist/spark/$SPARK_VERSION/$SPARK_VERSION-bin-hadoop2.7.tgz\n",
        "!tar xf $SPARK_VERSION-bin-hadoop2.7.tgz\n",
        "!pip install -q findspark\n",
        "\n",
        "# Set Environment Variables\n",
        "import os\n",
        "os.environ[\"JAVA_HOME\"] = \"/usr/lib/jvm/java-11-openjdk-amd64\"\n",
        "os.environ[\"SPARK_HOME\"] = f\"/content/{spark_version}-bin-hadoop2.7\"\n",
        "\n",
        "# Start a SparkSession\n",
        "import findspark\n",
        "findspark.init()"
      ]
    },
    {
      "cell_type": "code",
      "source": [
        "# Download the Postgres driver that will allow Spark to interact with Postgres.\n",
        "!wget https://jdbc.postgresql.org/download/postgresql-42.2.16.jar"
      ],
      "metadata": {
        "colab": {
          "base_uri": "https://localhost:8080/"
        },
        "id": "roEQjW2bcpnm",
        "outputId": "bbe112a2-ae6b-4a03-e04a-cf67f15a8e89"
      },
      "execution_count": 40,
      "outputs": [
        {
          "output_type": "stream",
          "name": "stdout",
          "text": [
            "--2022-06-06 01:07:31--  https://jdbc.postgresql.org/download/postgresql-42.2.16.jar\n",
            "Resolving jdbc.postgresql.org (jdbc.postgresql.org)... 72.32.157.228, 2001:4800:3e1:1::228\n",
            "Connecting to jdbc.postgresql.org (jdbc.postgresql.org)|72.32.157.228|:443... connected.\n",
            "HTTP request sent, awaiting response... 200 OK\n",
            "Length: 1002883 (979K) [application/java-archive]\n",
            "Saving to: ‘postgresql-42.2.16.jar.1’\n",
            "\n",
            "postgresql-42.2.16. 100%[===================>] 979.38K  --.-KB/s    in 0.1s    \n",
            "\n",
            "2022-06-06 01:07:31 (6.58 MB/s) - ‘postgresql-42.2.16.jar.1’ saved [1002883/1002883]\n",
            "\n"
          ]
        }
      ]
    },
    {
      "cell_type": "code",
      "source": [
        "from pyspark.sql import SparkSession\n",
        "spark = SparkSession.builder.appName(\"M16-Amazon-Challenge\").config(\"spark.driver.extraClassPath\",\"/content/postgresql-42.2.16.jar\").getOrCreate()"
      ],
      "metadata": {
        "id": "BT-YEIpLrVAd"
      },
      "execution_count": 41,
      "outputs": []
    },
    {
      "cell_type": "code",
      "source": [
        "from pyspark import SparkFiles\n",
        "url = \"https://s3.amazonaws.com/amazon-reviews-pds/tsv/amazon_reviews_us_Video_Games_v1_00.tsv.gz\"\n",
        "spark.sparkContext.addFile(url)\n",
        "df = spark.read.option(\"encoding\", \"UTF-8\").csv(SparkFiles.get(\"\"), sep=\"\\t\", header=True, inferSchema=True)\n",
        "df.show()"
      ],
      "metadata": {
        "colab": {
          "base_uri": "https://localhost:8080/"
        },
        "id": "DSHeELotrrjh",
        "outputId": "a8aa3fac-5881-4f65-ed87-4b6f0c52b1af"
      },
      "execution_count": 42,
      "outputs": [
        {
          "output_type": "stream",
          "name": "stdout",
          "text": [
            "+-----------+-----------+--------------+----------+--------------+--------------------+----------------+-----------+-------------+-----------+----+-----------------+--------------------+--------------------+-----------+\n",
            "|marketplace|customer_id|     review_id|product_id|product_parent|       product_title|product_category|star_rating|helpful_votes|total_votes|vine|verified_purchase|     review_headline|         review_body|review_date|\n",
            "+-----------+-----------+--------------+----------+--------------+--------------------+----------------+-----------+-------------+-----------+----+-----------------+--------------------+--------------------+-----------+\n",
            "|         US|   12039526| RTIS3L2M1F5SM|B001CXYMFS|     737716809|Thrustmaster T-Fl...|     Video Games|          5|            0|          0|   N|                Y|an amazing joysti...|Used this for Eli...| 2015-08-31|\n",
            "|         US|    9636577| R1ZV7R40OLHKD|B00M920ND6|     569686175|Tonsee 6 buttons ...|     Video Games|          5|            0|          0|   N|                Y|Definitely a sile...|Loved it,  I didn...| 2015-08-31|\n",
            "|         US|    2331478|R3BH071QLH8QMC|B0029CSOD2|      98937668|Hidden Mysteries:...|     Video Games|          1|            0|          1|   N|                Y|            One Star|poor quality work...| 2015-08-31|\n",
            "|         US|   52495923|R127K9NTSXA2YH|B00GOOSV98|      23143350|GelTabz Performan...|     Video Games|          3|            0|          0|   N|                Y|good, but could b...|nice, but tend to...| 2015-08-31|\n",
            "|         US|   14533949|R32ZWUXDJPW27Q|B00Y074JOM|     821342511|Zero Suit Samus a...|     Video Games|          4|            0|          0|   N|                Y|   Great but flawed.|Great amiibo, gre...| 2015-08-31|\n",
            "|         US|    2377552|R3AQQ4YUKJWBA6|B002UBI6W6|     328764615|Psyclone Recharge...|     Video Games|          1|            0|          0|   N|                Y|            One Star|The remote consta...| 2015-08-31|\n",
            "|         US|   17521011|R2F0POU5K6F73F|B008XHCLFO|      24234603|Protection for yo...|     Video Games|          5|            0|          0|   N|                Y|              A Must|I have a 2012-201...| 2015-08-31|\n",
            "|         US|   19676307|R3VNR804HYSMR6|B00BRA9R6A|     682267517|   Nerf 3DS XL Armor|     Video Games|          5|            0|          0|   N|                Y|          Five Stars|Perfect, kids lov...| 2015-08-31|\n",
            "|         US|     224068| R3GZTM72WA2QH|B009EPWJLA|     435241890|One Piece: Pirate...|     Video Games|          5|            0|          0|   N|                Y|          Five Stars|            Excelent| 2015-08-31|\n",
            "|         US|   48467989| RNQOY62705W1K|B0000AV7GB|     256572651|Playstation 2 Dan...|     Video Games|          4|            0|          0|   N|                Y|          Four Stars|Slippery but expe...| 2015-08-31|\n",
            "|         US|     106569|R1VTIA3JTYBY02|B00008KTNN|     384411423|Metal Arms: Glitc...|     Video Games|          5|            0|          0|   N|                N|          Five Stars|Love the game. Se...| 2015-08-31|\n",
            "|         US|   48269642|R29DOU8791QZL8|B000A3IA0Y|     472622859|72 Pin Connector ...|     Video Games|          1|            0|          0|   N|                Y| Game will get stuck|Does not fit prop...| 2015-08-31|\n",
            "|         US|   52738710|R15DUT1VIJ9RJZ|B0053BQN34|     577628462|uDraw Gametablet ...|     Video Games|          2|            0|          0|   N|                Y|We have tried it ...|This was way too ...| 2015-08-31|\n",
            "|         US|   10556786|R3IMF2MQ3OU9ZM|B002I0HIMI|     988218515|NBA 2K12(Covers M...|     Video Games|          4|            0|          0|   N|                Y|          Four Stars|Works great good ...| 2015-08-31|\n",
            "|         US|    2963837|R23H79DHOZTYAU|B0081EH12M|     770100932|New Trigger Grips...|     Video Games|          1|            1|          1|   N|                Y|Now i have to buy...|It did not fit th...| 2015-08-31|\n",
            "|         US|   23092109| RIV24EQAIXA4O|B005FMLZQQ|      24647669|Xbox 360 Media Re...|     Video Games|          5|            0|          0|   N|                Y|          Five Stars|perfect lightweig...| 2015-08-31|\n",
            "|         US|   23091728|R3UCNGYDVN24YB|B002BSA388|      33706205|Super Mario Galaxy 2|     Video Games|          5|            0|          0|   N|                Y|          Five Stars|               great| 2015-08-31|\n",
            "|         US|   10712640| RUL4H4XTTN2DY|B00BUSLSAC|     829667834|Nintendo 3DS XL -...|     Video Games|          5|            0|          0|   N|                Y|          Five Stars|Works beautifully...| 2015-08-31|\n",
            "|         US|   17455376|R20JF7Z4DHTNX5|B00KWF38AW|     110680188|Captain Toad:  Tr...|     Video Games|          5|            0|          0|   N|                Y|          Five Stars|Kids loved the ga...| 2015-08-31|\n",
            "|         US|   14754850|R2T1AJ5MFI2260|B00BRQJYA8|     616463426|Lego Batman 2: DC...|     Video Games|          4|            0|          0|   N|                Y|          Four Stars|           Goodngame| 2015-08-31|\n",
            "+-----------+-----------+--------------+----------+--------------+--------------------+----------------+-----------+-------------+-----------+----+-----------------+--------------------+--------------------+-----------+\n",
            "only showing top 20 rows\n",
            "\n"
          ]
        }
      ]
    },
    {
      "cell_type": "code",
      "source": [
        "helpful_review_df = df.select([\"star_rating\", \"helpful_votes\", \"total_votes\", \"vine\", \"verified_purchase\"])\n",
        "helpful_review_df.show()"
      ],
      "metadata": {
        "colab": {
          "base_uri": "https://localhost:8080/"
        },
        "id": "IvLXHLZP6x47",
        "outputId": "d731f1b2-ce1f-4e6b-d284-2e4080d672b6"
      },
      "execution_count": 43,
      "outputs": [
        {
          "output_type": "stream",
          "name": "stdout",
          "text": [
            "+-----------+-------------+-----------+----+-----------------+\n",
            "|star_rating|helpful_votes|total_votes|vine|verified_purchase|\n",
            "+-----------+-------------+-----------+----+-----------------+\n",
            "|          5|            0|          0|   N|                Y|\n",
            "|          5|            0|          0|   N|                Y|\n",
            "|          1|            0|          1|   N|                Y|\n",
            "|          3|            0|          0|   N|                Y|\n",
            "|          4|            0|          0|   N|                Y|\n",
            "|          1|            0|          0|   N|                Y|\n",
            "|          5|            0|          0|   N|                Y|\n",
            "|          5|            0|          0|   N|                Y|\n",
            "|          5|            0|          0|   N|                Y|\n",
            "|          4|            0|          0|   N|                Y|\n",
            "|          5|            0|          0|   N|                N|\n",
            "|          1|            0|          0|   N|                Y|\n",
            "|          2|            0|          0|   N|                Y|\n",
            "|          4|            0|          0|   N|                Y|\n",
            "|          1|            1|          1|   N|                Y|\n",
            "|          5|            0|          0|   N|                Y|\n",
            "|          5|            0|          0|   N|                Y|\n",
            "|          5|            0|          0|   N|                Y|\n",
            "|          5|            0|          0|   N|                Y|\n",
            "|          4|            0|          0|   N|                Y|\n",
            "+-----------+-------------+-----------+----+-----------------+\n",
            "only showing top 20 rows\n",
            "\n"
          ]
        }
      ]
    },
    {
      "cell_type": "code",
      "source": [
        "filtered_df = helpful_review_df.filter(helpful_review_df[\"total_votes\"] >= 20)\n",
        "filtered_df.show()"
      ],
      "metadata": {
        "colab": {
          "base_uri": "https://localhost:8080/"
        },
        "id": "dkC9cMG5r8uj",
        "outputId": "52be2abd-8614-4215-c7e4-979869bd0eda"
      },
      "execution_count": 45,
      "outputs": [
        {
          "output_type": "stream",
          "name": "stdout",
          "text": [
            "+-----------+-------------+-----------+----+-----------------+\n",
            "|star_rating|helpful_votes|total_votes|vine|verified_purchase|\n",
            "+-----------+-------------+-----------+----+-----------------+\n",
            "|          1|           21|         34|   N|                N|\n",
            "|          1|           21|         35|   N|                Y|\n",
            "|          1|          147|        175|   N|                Y|\n",
            "|          1|           14|         31|   N|                Y|\n",
            "|          2|           55|         60|   N|                N|\n",
            "|          1|           51|         65|   N|                Y|\n",
            "|          4|           31|         36|   N|                N|\n",
            "|          2|           19|         34|   N|                Y|\n",
            "|          5|           28|         31|   N|                N|\n",
            "|          1|            4|         32|   N|                N|\n",
            "|          2|          151|        198|   N|                N|\n",
            "|          1|           49|         51|   N|                Y|\n",
            "|          1|            5|         36|   N|                N|\n",
            "|          1|            7|        139|   N|                N|\n",
            "|          1|           15|         45|   N|                N|\n",
            "|          1|           34|        116|   N|                N|\n",
            "|          1|           23|         28|   N|                N|\n",
            "|          1|            0|         23|   N|                Y|\n",
            "|          5|           88|        110|   N|                N|\n",
            "|          2|           99|        119|   N|                N|\n",
            "+-----------+-------------+-----------+----+-----------------+\n",
            "only showing top 20 rows\n",
            "\n"
          ]
        }
      ]
    },
    {
      "cell_type": "code",
      "source": [
        "helpful_total_votes_df = filtered_df.filter(filtered_df[\"helpful_votes\"]/filtered_df[\"total_votes\"] >= 0.5)\n",
        "helpful_total_votes_df.show()"
      ],
      "metadata": {
        "colab": {
          "base_uri": "https://localhost:8080/"
        },
        "id": "UoRb4VUkQILb",
        "outputId": "3fb59b29-d3b2-4474-e62c-0c0e9a4dff98"
      },
      "execution_count": 46,
      "outputs": [
        {
          "output_type": "stream",
          "name": "stdout",
          "text": [
            "+-----------+-------------+-----------+----+-----------------+\n",
            "|star_rating|helpful_votes|total_votes|vine|verified_purchase|\n",
            "+-----------+-------------+-----------+----+-----------------+\n",
            "|          1|           21|         34|   N|                N|\n",
            "|          1|           21|         35|   N|                Y|\n",
            "|          1|          147|        175|   N|                Y|\n",
            "|          2|           55|         60|   N|                N|\n",
            "|          1|           51|         65|   N|                Y|\n",
            "|          4|           31|         36|   N|                N|\n",
            "|          2|           19|         34|   N|                Y|\n",
            "|          5|           28|         31|   N|                N|\n",
            "|          2|          151|        198|   N|                N|\n",
            "|          1|           49|         51|   N|                Y|\n",
            "|          1|           23|         28|   N|                N|\n",
            "|          5|           88|        110|   N|                N|\n",
            "|          2|           99|        119|   N|                N|\n",
            "|          3|           24|         31|   N|                Y|\n",
            "|          1|          102|        106|   N|                N|\n",
            "|          2|           21|         25|   N|                Y|\n",
            "|          1|           19|         23|   N|                Y|\n",
            "|          3|           15|         22|   N|                Y|\n",
            "|          1|           79|         91|   N|                N|\n",
            "|          1|           24|         30|   N|                Y|\n",
            "+-----------+-------------+-----------+----+-----------------+\n",
            "only showing top 20 rows\n",
            "\n"
          ]
        }
      ]
    },
    {
      "cell_type": "code",
      "source": [
        "paid_vine_df = helpful_total_votes_df.filter(helpful_total_votes_df[\"vine\"] == 'Y')\n",
        "paid_vine_df.show()"
      ],
      "metadata": {
        "id": "163iJ6l8VzXG",
        "colab": {
          "base_uri": "https://localhost:8080/"
        },
        "outputId": "43c54b5b-e857-484b-e0a5-ee50ede0c832"
      },
      "execution_count": 47,
      "outputs": [
        {
          "output_type": "stream",
          "name": "stdout",
          "text": [
            "+-----------+-------------+-----------+----+-----------------+\n",
            "|star_rating|helpful_votes|total_votes|vine|verified_purchase|\n",
            "+-----------+-------------+-----------+----+-----------------+\n",
            "|          5|           56|         63|   Y|                N|\n",
            "|          3|           23|         23|   Y|                N|\n",
            "|          5|           19|         24|   Y|                N|\n",
            "|          4|           22|         26|   Y|                N|\n",
            "|          3|           20|         26|   Y|                N|\n",
            "|          5|           46|         51|   Y|                N|\n",
            "|          5|           22|         28|   Y|                N|\n",
            "|          5|           21|         24|   Y|                N|\n",
            "|          4|           21|         28|   Y|                N|\n",
            "|          5|           17|         20|   Y|                N|\n",
            "|          5|           55|         58|   Y|                N|\n",
            "|          5|           35|         41|   Y|                N|\n",
            "|          5|           18|         20|   Y|                N|\n",
            "|          5|           21|         28|   Y|                N|\n",
            "|          4|           51|         58|   Y|                N|\n",
            "|          4|           85|        103|   Y|                N|\n",
            "|          5|           38|         50|   Y|                N|\n",
            "|          5|          241|        262|   Y|                N|\n",
            "|          5|           14|         20|   Y|                N|\n",
            "|          4|           21|         23|   Y|                N|\n",
            "+-----------+-------------+-----------+----+-----------------+\n",
            "only showing top 20 rows\n",
            "\n"
          ]
        }
      ]
    },
    {
      "cell_type": "code",
      "source": [
        "non_paid_df = helpful_total_votes_df.filter(helpful_total_votes_df[\"vine\"] == 'N')\n",
        "non_paid_df.show()"
      ],
      "metadata": {
        "colab": {
          "base_uri": "https://localhost:8080/"
        },
        "id": "eCVxv6LA94xX",
        "outputId": "7ea324db-6a8b-4c71-9f36-2510ce90e6e7"
      },
      "execution_count": 48,
      "outputs": [
        {
          "output_type": "stream",
          "name": "stdout",
          "text": [
            "+-----------+-------------+-----------+----+-----------------+\n",
            "|star_rating|helpful_votes|total_votes|vine|verified_purchase|\n",
            "+-----------+-------------+-----------+----+-----------------+\n",
            "|          1|           21|         34|   N|                N|\n",
            "|          1|           21|         35|   N|                Y|\n",
            "|          1|          147|        175|   N|                Y|\n",
            "|          2|           55|         60|   N|                N|\n",
            "|          1|           51|         65|   N|                Y|\n",
            "|          4|           31|         36|   N|                N|\n",
            "|          2|           19|         34|   N|                Y|\n",
            "|          5|           28|         31|   N|                N|\n",
            "|          2|          151|        198|   N|                N|\n",
            "|          1|           49|         51|   N|                Y|\n",
            "|          1|           23|         28|   N|                N|\n",
            "|          5|           88|        110|   N|                N|\n",
            "|          2|           99|        119|   N|                N|\n",
            "|          3|           24|         31|   N|                Y|\n",
            "|          1|          102|        106|   N|                N|\n",
            "|          2|           21|         25|   N|                Y|\n",
            "|          1|           19|         23|   N|                Y|\n",
            "|          3|           15|         22|   N|                Y|\n",
            "|          1|           79|         91|   N|                N|\n",
            "|          1|           24|         30|   N|                Y|\n",
            "+-----------+-------------+-----------+----+-----------------+\n",
            "only showing top 20 rows\n",
            "\n"
          ]
        }
      ]
    },
    {
      "cell_type": "code",
      "source": [
        "paid_five_star = paid_vine_df[paid_vine_df['star_rating']== 5].count()\n",
        "paid_number = paid_vine_df.count()\n",
        "percentage_five_star_vine = float(paid_five_star) / float(paid_number)\n",
        "print(paid_number)\n",
        "print(paid_five_star)\n",
        "print(percentage_five_star_vine)"
      ],
      "metadata": {
        "id": "TqHSV0wf-X_x",
        "colab": {
          "base_uri": "https://localhost:8080/"
        },
        "outputId": "1e2dcd59-ec68-4ae2-ce40-476640cf4c1d"
      },
      "execution_count": 50,
      "outputs": [
        {
          "output_type": "stream",
          "name": "stdout",
          "text": [
            "94\n",
            "48\n",
            "0.5106382978723404\n"
          ]
        }
      ]
    },
    {
      "cell_type": "code",
      "source": [
        "non_paid_five_star = non_paid_df[non_paid_df['star_rating']== 5].count()\n",
        "non_paid_number = non_paid_df.count()\n",
        "percentage_five_star_vine = float(non_paid_five_star) / float(non_paid_number)\n",
        "print(non_paid_number)\n",
        "print(non_paid_five_star)\n",
        "print(percentage_five_star_vine)"
      ],
      "metadata": {
        "colab": {
          "base_uri": "https://localhost:8080/"
        },
        "id": "1hCSqGvNehii",
        "outputId": "fde663a4-f7fe-4e56-b419-98b64cd781ae"
      },
      "execution_count": 52,
      "outputs": [
        {
          "output_type": "stream",
          "name": "stdout",
          "text": [
            "40471\n",
            "15663\n",
            "0.38701786464381904\n"
          ]
        }
      ]
    }
  ]
}